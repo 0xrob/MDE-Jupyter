{
 "cells": [
  {
   "attachments": {},
   "cell_type": "markdown",
   "metadata": {},
   "source": [
    "## Imports"
   ]
  },
  {
   "cell_type": "code",
   "execution_count": null,
   "metadata": {},
   "outputs": [],
   "source": [
    "from typing import List\n",
    "import re\n",
    "import pandas as pd\n",
    "import msticpy as mp\n",
    "from bokeh.io import output_notebook\n",
    "output_notebook()\n",
    "\n",
    "mp.init_notebook()\n",
    "pd.options.display.width = 0\n",
    "pd.options.display.max_columns = 0\n",
    "pd.options.display.max_colwidth = 0\n",
    "\n"
   ]
  },
  {
   "attachments": {},
   "cell_type": "markdown",
   "metadata": {},
   "source": [
    "## Lists"
   ]
  },
  {
   "cell_type": "code",
   "execution_count": null,
   "metadata": {},
   "outputs": [],
   "source": [
    "LOLBAS = [\n",
    "\"adplus.exe\",\n",
    "\"advpack.dll\",\n",
    "\"agentexecutor.exe\",\n",
    "\"appvlp.exe\",\n",
    "\"aspnet_compiler.exe\",\n",
    "\"at.exe\",\n",
    "\"atbroker.exe\",\n",
    "\"bash.exe\",\n",
    "\"bginfo.exe\",\n",
    "\"bitsadmin.exe\",\n",
    "\"cdb.exe\",\n",
    "\"certoc.exe\",\n",
    "\"certreq.exe\",\n",
    "\"certutil.exe\",\n",
    "\"cmd.exe\",\n",
    "\"cmdkey.exe\",\n",
    "\"cmdl32.exe\",\n",
    "\"cmstp.exe\",\n",
    "\"comsvcs.dll\",\n",
    "\"configsecuritypolicy.exe\",\n",
    "\"control.exe\",\n",
    "\"coregen.exe\",\n",
    "\"csc.exe\",\n",
    "\"cscript.exe\",\n",
    "\"csi.exe\",\n",
    "\"datasvcutil.exe\",\n",
    "\"defaultpack.exe\",\n",
    "\"desktopimgdownldr.exe\",\n",
    "\"devtoolslauncher.exe\",\n",
    "\"dfshim.dll\",\n",
    "\"dfsvc.exe\",\n",
    "\"diantz.exe\",\n",
    "\"diskshadow.exe\",\n",
    "\"dllhost.exe\",\n",
    "\"dnscmd.exe\",\n",
    "\"dnx.exe\",\n",
    "\"dotnet.exe\",\n",
    "\"dxcap.exe\",\n",
    "\"esentutl.exe\",\n",
    "\"eventvwr.exe\",\n",
    "\"excel.exe\",\n",
    "\"executable nameappinstaller.exe\",\n",
    "\"expand.exe\",\n",
    "\"explorer.exe\",\n",
    "\"extexport.exe\",\n",
    "\"extrac32.exe\",\n",
    "\"findstr.exe\",\n",
    "\"finger.exe\",\n",
    "\"fltmc.exe\",\n",
    "\"forfiles.exe\",\n",
    "\"fsi.exe\",\n",
    "\"fsianycpu.exe\",\n",
    "\"ftp.exe\",\n",
    "\"gfxdownloadwrapper.exe\",\n",
    "\"gpscript.exe\",\n",
    "\"hh.exe\",\n",
    "\"ie4uinit.exe\",\n",
    "\"ieadvpack.dll\",\n",
    "\"ieaframe.dll\",\n",
    "\"ieexec.exe\",\n",
    "\"ilasm.exe\",\n",
    "\"imewdbld.exe\",\n",
    "\"infdefaultinstall.exe\",\n",
    "\"installutil.exe\",\n",
    "\"jsc.exe\",\n",
    "\"makecab.exe\",\n",
    "\"mavinject.exe\",\n",
    "\"mftrace.exe\",\n",
    "\"microsoft.workflow.compiler.exe\",\n",
    "\"mmc.exe\",\n",
    "\"mpcmdrun.exe\",\n",
    "\"msbuild.exe\",\n",
    "\"msconfig.exe\",\n",
    "\"msdeploy.exe\",\n",
    "\"msdt.exe\",\n",
    "\"mshta.exe\",\n",
    "\"mshtml.dll\",\n",
    "\"msiexec.exe\",\n",
    "\"msxsl.exe\",\n",
    "\"netsh.exe\",\n",
    "\"ntdsutil.exe\",\n",
    "\"odbcconf.exe\",\n",
    "\"offlinescannershell.exe\",\n",
    "\"onedrivestandaloneupdater.exe\",\n",
    "\"pcalua.exe\",\n",
    "\"pcwrun.exe\",\n",
    "\"pcwutl.dll\",\n",
    "\"pktmon.exe\",\n",
    "\"pnputil.exe\",\n",
    "\"powerpnt.exe\",\n",
    "\"powershell.exe\",\n",
    "\"presentationhost.exe\",\n",
    "\"print.exe\",\n",
    "\"printbrm.exe\",\n",
    "\"procdump(64).exe\",\n",
    "\"psr.exe\",\n",
    "\"rasautou.exe\",\n",
    "\"rcsi.exe\",\n",
    "\"reg.exe\",\n",
    "\"regasm.exe\",\n",
    "\"regedit.exe\",\n",
    "\"regini.exe\",\n",
    "\"register-cimprovider.exe\",\n",
    "\"regsvcs.exe\",\n",
    "\"regsvr32.exe\",\n",
    "\"remote.exe\",\n",
    "\"replace.exe\",\n",
    "\"rpcping.exe\",\n",
    "\"rundll32.exe\",\n",
    "\"runonce.exe\",\n",
    "\"runscripthelper.exe\",\n",
    "\"sc.exe\",\n",
    "\"schtasks.exe\",\n",
    "\"scriptrunner.exe\",\n",
    "\"settingsynchost.exe\",\n",
    "\"setupapi.dll\",\n",
    "\"shdocvw.dll\",\n",
    "\"shell32.dll\",\n",
    "\"sqldumper.exe\",\n",
    "\"sqlps.exe\",\n",
    "\"sqltoolsps.exe\",\n",
    "\"squirrel.exe\",\n",
    "\"stordiag.exe\",\n",
    "\"syncappvpublishingserver.exe\",\n",
    "\"syssetup.dll\",\n",
    "\"te.exe\",\n",
    "\"tracker.exe\",\n",
    "\"ttdinject.exe\",\n",
    "\"tttracer.exe\",\n",
    "\"update.exe\",\n",
    "\"url.dll\",\n",
    "\"vbc.exe\",\n",
    "\"verclsid.exe\",\n",
    "\"visualuiaverifynative.exe\",\n",
    "\"vsiisexelauncher.exe\",\n",
    "\"vsjitdebugger.exe\",\n",
    "\"wab.exe\",\n",
    "\"wfc.exe\",\n",
    "\"winword.exe\",\n",
    "\"wmic.exe\",\n",
    "\"workfolders.exe\",\n",
    "\"wscript.exe\",\n",
    "\"wsl.exe\",\n",
    "\"wsreset.exe\",\n",
    "\"wuauclt.exe\",\n",
    "\"xwizard.exe\",\n",
    "\"zipfldr.dll\",\n",
    "]\n",
    "\n",
    "RECOON = [\n",
    "  \"chcp\",\n",
    "  \"dsquery\",\n",
    "  \"hostname\",\n",
    "  \"ipconfig\",\n",
    "  \"net\",\n",
    "  \"netstat\",\n",
    "  \"nltest\",\n",
    "  \"whoami\",\n",
    "  \"ldifde\",\n",
    "  \"wmic\",\n",
    "  ]\n",
    "\n",
    "CS_SPAWN_TO = [\n",
    "\"dllhost\",\n",
    "\"gpupdate\",\n",
    "\"mstsc\",\n",
    "\"regsvr32\",\n",
    "\"rundll32\",\n",
    "\"svchost\",\n",
    "\"userinit\",\n",
    "\"werfault\",\n",
    "\"wuauclt\",\n",
    "\"wusa\",\n",
    "]\n",
    "\n",
    "CHARACTERS = [\n",
    "\"—\",\n",
    "\"―\",\n",
    "\"˪\",\n",
    "\"∕\",\n",
    "\"⁄\",\n",
    "\"ʰ\",\n",
    "\"ʱ\",\n",
    "\"ʲ\",\n",
    "\"ˡ\",\n",
    "\"ʳ\",\n",
    "\"ʴ\",\n",
    "\"ʵ\",\n",
    "\"ʶ\",\n",
    "\"ˢ\", \n",
    "\"ʷ\",\n",
    "\"ˣ\",\n",
    "\"ʸ\",\n",
    "\"�\",\n",
    "re.escape(\"^\"),\n",
    "]\n",
    "\n",
    "CS_SPAWN_TO = [ \n",
    "\"dllhost\",\n",
    "\"gpupdate\",\n",
    "\"mstsc\",\n",
    "\"regsvr32\",\n",
    "\"rundll32\",\n",
    "\"svchost\",\n",
    "\"userinit\",\n",
    "\"werfault\",\n",
    "\"wuauclt\",\n",
    "\"wusa\",\n",
    "]\n",
    "\n",
    "COMMON_MALWARE_PATHS = [ \n",
    "\"appdata\",\n",
    "\"temp\",\n",
    "\"perflogs\",\n",
    "\"users\",\n",
    "]\n",
    "\n",
    "OFFICE = [\n",
    "    \"winword.exe\",\n",
    "    \"powerpnt.exe\",\n",
    "    \"excel.exe\",\n",
    "    \"outlook.exe\",\n",
    "    \"onenote.exe\",\n",
    "]"
   ]
  },
  {
   "attachments": {},
   "cell_type": "markdown",
   "metadata": {},
   "source": [
    "# Host Investigation Notebook - Public"
   ]
  },
  {
   "cell_type": "code",
   "execution_count": null,
   "metadata": {},
   "outputs": [],
   "source": [
    "mde_prov = mp.QueryProvider(\"M365D\")\n",
    "mde_prov.connect()"
   ]
  },
  {
   "attachments": {},
   "cell_type": "markdown",
   "metadata": {},
   "source": [
    "## LOLBAS Process Execution\n",
    "### Generic Warning Flags\n",
    "* User Writable Paths\n",
    "* Suspicious Parent-Child Process Relationships\n",
    "* Suspicious commandline for LOLBAS based off of https://lolbas-project.github.io/#\n",
    "* Obfuscation Characters"
   ]
  },
  {
   "cell_type": "code",
   "execution_count": null,
   "metadata": {},
   "outputs": [],
   "source": [
    "lolbas = mde_prov.mstical_host_triage.host_processes_query(start=\"-7\", processes=LOLBAS, hostname=\"\")"
   ]
  },
  {
   "cell_type": "code",
   "execution_count": null,
   "metadata": {},
   "outputs": [],
   "source": [
    "lolbas[\"DeviceName\"].unique()"
   ]
  },
  {
   "attachments": {},
   "cell_type": "markdown",
   "metadata": {},
   "source": [
    "### Look at and group all cmd"
   ]
  },
  {
   "cell_type": "code",
   "execution_count": null,
   "metadata": {},
   "outputs": [],
   "source": [
    "lolbas_cmd = lolbas[lolbas[\"FileName\"].str.contains(\"cmd\")].groupby([\"InitiatingProcessFileName\", \"FileName\"]).agg(ProcessCommandLine=(\"ProcessCommandLine\", set), count=(\"ProcessCommandLine\", \"count\"))\n",
    "lolbas_cmd"
   ]
  },
  {
   "attachments": {},
   "cell_type": "markdown",
   "metadata": {},
   "source": [
    "### look at and group all rundll"
   ]
  },
  {
   "cell_type": "code",
   "execution_count": null,
   "metadata": {},
   "outputs": [],
   "source": [
    "lolbas_rundll = lolbas[lolbas[\"FileName\"].str.contains(\"rundll\")].groupby([\"InitiatingProcessFileName\", \"FileName\"]).agg(ProcessCommandLine=(\"ProcessCommandLine\", set), count=(\"ProcessCommandLine\", \"count\"))\n",
    "lolbas_rundll"
   ]
  },
  {
   "attachments": {},
   "cell_type": "markdown",
   "metadata": {},
   "source": [
    "### Function to identify suspicious rundll"
   ]
  },
  {
   "cell_type": "code",
   "execution_count": null,
   "metadata": {},
   "outputs": [],
   "source": [
    "def suspicious_lolbas_rundll32_execution(\n",
    "    dataframe: pd.DataFrame,\n",
    "    process_column: str = \"FileName\",\n",
    "    process_name: str = \"rundll32.exe\",\n",
    "    command_line_column: str = \"ProcessCommandLine\",\n",
    "    suspicious_params: List[str] = [\n",
    "        \"appdata\"\n",
    "        \".scr\",\n",
    "        \"advpack.dll\",\n",
    "        \"cmd\",\n",
    "        \"Control_RunDLL\",\n",
    "        \"comsvcs\",\n",
    "        \"cscript\",\n",
    "        \"desk.cpl\",\n",
    "        \"dfshim.dll\",\n",
    "        \"FileProtocolHandler\",\n",
    "        \"ieadvpack.dll\",\n",
    "        \"ieframe.dll\",\n",
    "        \"InstallHinfSection\",\n",
    "        \"javascript:\",\n",
    "        \"LaunchApplication\",\n",
    "        \"LaunchINFSection\",\n",
    "        \"mshtml.dll\",\n",
    "        \"OpenURL\",\n",
    "        \"pcwutl.dll\",\n",
    "        \"powershell\",\n",
    "        \"PrintHTML\",\n",
    "        \"RegisterOCX\",\n",
    "        \"RegisterXLL\",\n",
    "        \"RegisterXL\",\n",
    "        \"RouteTheCall\",\n",
    "        \"setupapi.dll\",\n",
    "        \"setupInfObjectInstallAction\",\n",
    "        \"shdocvw.dll\",\n",
    "        \"shell32.dll\",\n",
    "        \"ShellExec_RunDLL\",\n",
    "        \"ShOpenVerbApplication\",\n",
    "        \"ShOpenVerbShortcut\",\n",
    "        \"syssetup.dll\",\n",
    "        \"temp\"\n",
    "        \"url.dll\",\n",
    "        \"users\",\n",
    "        \"wscript\",\n",
    "        \"zipfldr.dll\",\n",
    "    ],\n",
    "    **kwargs,\n",
    ") -> pd.DataFrame:\n",
    "    \"\"\"Filter on processes that contain a suspicious file name.\"\"\"\n",
    "    del kwargs\n",
    "    return dataframe[\n",
    "        (dataframe[process_column].str.casefold() == process_name.casefold())\n",
    "        & dataframe[command_line_column].str.contains(\"|\".join(suspicious_params))\n",
    "    ]"
   ]
  },
  {
   "cell_type": "code",
   "execution_count": null,
   "metadata": {},
   "outputs": [],
   "source": [
    "suspicious_lolbas_rundll32_execution(lolbas).groupby([\"InitiatingProcessFileName\", \"FileName\"]).agg(ProcessCommandLine=(\"ProcessCommandLine\", set), count=(\"ProcessCommandLine\", \"count\"))"
   ]
  },
  {
   "attachments": {},
   "cell_type": "markdown",
   "metadata": {},
   "source": [
    "### Look at and group all PowerShell"
   ]
  },
  {
   "cell_type": "code",
   "execution_count": null,
   "metadata": {},
   "outputs": [],
   "source": [
    "lolbas_powershell = lolbas[lolbas[\"FileName\"].str.contains(\"powershell\")].groupby([\"InitiatingProcessFileName\", \"FileName\"]).agg(ProcessCommandLine=(\"ProcessCommandLine\", set), count=(\"ProcessCommandLine\", \"count\"))\n",
    "lolbas_powershell"
   ]
  },
  {
   "attachments": {},
   "cell_type": "markdown",
   "metadata": {},
   "source": [
    "### Obfuscation Characters"
   ]
  },
  {
   "cell_type": "code",
   "execution_count": null,
   "metadata": {},
   "outputs": [],
   "source": [
    "lolbas_obfuscation = lolbas[lolbas[\"ProcessCommandLine\"].str.contains(\"|\".join(CHARACTERS))].groupby([\"InitiatingProcessFileName\", \"FileName\"]).agg(ProcessCommandLine=(\"ProcessCommandLine\", set), count=(\"ProcessCommandLine\", \"count\"))\n",
    "lolbas_obfuscation"
   ]
  },
  {
   "attachments": {},
   "cell_type": "markdown",
   "metadata": {},
   "source": [
    "### Group everything"
   ]
  },
  {
   "cell_type": "code",
   "execution_count": null,
   "metadata": {},
   "outputs": [],
   "source": [
    "cmd_lines = [\"GetDeviceTicket\", \"jimbob\",\"UpdateDeploy.dll\",\n",
    "\"UpdateDeploymentProvider.dll\",\"Windows Defender Advanced Threat Protection\",\n",
    "\"Get-WindowsFeature -Name Web-Server\", \"-RestrictPrivileges -AccessKey\",\n",
    "\"/noconfig /fullpaths\"]\n",
    "cmd_lines = [f\"(?:{cmd_line})\" for cmd_line in map(str, cmd_lines)]\n",
    "search_pattern = \"|\".join(cmd_lines)\n",
    "\n",
    "lolbas_exclude = lolbas[~lolbas[\"ProcessCommandLine\"].str.contains(search_pattern)]\n",
    "lolbas_exclude.groupby([\"InitiatingProcessFileName\", \"FileName\"]).agg(ProcessCommandLine=(\"ProcessCommandLine\", set), count=(\"ProcessCommandLine\", \"count\"))"
   ]
  },
  {
   "attachments": {},
   "cell_type": "markdown",
   "metadata": {},
   "source": [
    "## LOLBAS Parent Process Execution\n",
    "### Generic Warning Flags\n",
    "* User Writable Paths\n",
    "* Suspicious Parent-Child Process Relationships\n",
    "* Suspicious commandline for LOLBAS based off of https://lolbas-project.github.io/#\n",
    "* Obfuscation Characters"
   ]
  },
  {
   "cell_type": "code",
   "execution_count": null,
   "metadata": {},
   "outputs": [],
   "source": [
    "lolbas_parent = mde_prov.mstical_host_triage.host_parent_processes_query(start=\"-7\", parent_processes=LOLBAS, hostname=\"\")"
   ]
  },
  {
   "cell_type": "code",
   "execution_count": null,
   "metadata": {},
   "outputs": [],
   "source": [
    "cmd_lines = [\"AccessKey\",\"OUT:C:\\\\\\Windows\\\\\\TEMP\\\\\\RES\",\"cvtres.exe /NOLOGO /READONLY\", \"/get /subcategory\", \"noconfig /fullpaths\"]\n",
    "cmd_lines = [f\"(?:{cmd_line})\" for cmd_line in map(str, cmd_lines)]\n",
    "search_pattern = \"|\".join(cmd_lines)\n",
    "\n",
    "lolbas_parent_exclude = lolbas_parent[~lolbas_parent[\"ProcessCommandLine\"].str.contains(search_pattern)]\n",
    "\n",
    "lolbas_parent_exclude.groupby([\"InitiatingProcessFileName\", \"FileName\"]).agg(ProcessCommandLine=(\"ProcessCommandLine\", set), count=(\"ProcessCommandLine\", \"count\"))"
   ]
  },
  {
   "attachments": {},
   "cell_type": "markdown",
   "metadata": {},
   "source": [
    "## CS Spawn-To Processes\n",
    "### Generic Warning Flags\n",
    "* User Writable Paths\n",
    "* Suspicious Parent-Child Process Relationships\n",
    "* Suspicious commandline for LOLBAS based off of https://lolbas-project.github.io/#\n",
    "* Obfuscation Characters"
   ]
  },
  {
   "cell_type": "code",
   "execution_count": null,
   "metadata": {},
   "outputs": [],
   "source": [
    "cs_spawn_to = mde_prov.mstical_host_triage.host_parent_processes_query(start=\"-7\", parent_processes=CS_SPAWN_TO,hostname=\"\")"
   ]
  },
  {
   "cell_type": "code",
   "execution_count": null,
   "metadata": {},
   "outputs": [],
   "source": [
    "cs_spawn_to.groupby([\"InitiatingProcessFileName\", \"FileName\"]).agg(ProcessCommandLine=(\"ProcessCommandLine\", set), count=(\"ProcessCommandLine\", \"count\"))"
   ]
  },
  {
   "attachments": {},
   "cell_type": "markdown",
   "metadata": {},
   "source": [
    "## Child Processes Of Office Applications\n",
    "### Generic Warning Flags\n",
    "* Suspicious Parent-Child Process Relationships\n",
    "* Suspicious commandline for LOLBAS based off of https://lolbas-project.github.io/#"
   ]
  },
  {
   "cell_type": "code",
   "execution_count": null,
   "metadata": {},
   "outputs": [],
   "source": [
    "office_child_process = mde_prov.mstical_host_triage.host_parent_processes_query(start=\"-7\", parent_processes=OFFICE, hostname=\"\")"
   ]
  },
  {
   "cell_type": "code",
   "execution_count": null,
   "metadata": {},
   "outputs": [],
   "source": [
    "office_child_process"
   ]
  },
  {
   "attachments": {},
   "cell_type": "markdown",
   "metadata": {},
   "source": [
    "## Common Interpreters\n",
    "* powershell\n",
    "* cmd\n",
    "* wscript\n",
    "* cscript\n",
    "\n",
    "### Generic Warning Flags\n",
    "* User Writable Paths\n",
    "* Suspicious Parent-Child Process Relationships\n",
    "* Suspicious commandline strings for powershell/cmd\n",
    "* Obfuscation Characters"
   ]
  },
  {
   "cell_type": "code",
   "execution_count": null,
   "metadata": {},
   "outputs": [],
   "source": [
    "common_interpreter = mde_prov.mstical_host_triage.host_processes_query(start=\"-7\", processes=[\"powershell\", \"cmd.exe\", \"wscript.exe\", \"cscript.exe\"], hostname=\"\")\n",
    "common_interpreter"
   ]
  },
  {
   "cell_type": "code",
   "execution_count": null,
   "metadata": {},
   "outputs": [],
   "source": [
    "common_interpreter[\"FileName\"].unique()"
   ]
  },
  {
   "cell_type": "code",
   "execution_count": null,
   "metadata": {},
   "outputs": [],
   "source": [
    "common_interpreter[common_interpreter[\"ProcessCommandLine\"].str.contains(\"cscript\")][\"ProcessCommandLine\"].unique()"
   ]
  },
  {
   "cell_type": "code",
   "execution_count": null,
   "metadata": {},
   "outputs": [],
   "source": [
    "cmd_lines = [\"SenseIR\",\"gc_worker\"]\n",
    "cmd_lines = [f\"(?:{cmd_line})\" for cmd_line in map(str, cmd_lines)]\n",
    "search_pattern = \"|\".join(cmd_lines)\n",
    "\n",
    "common_interpreter_exclude = common_interpreter[~common_interpreter[\"InitiatingProcessFileName\"].str.contains(search_pattern)]\n",
    "common_interpreter_exclude.groupby([\"InitiatingProcessFileName\", \"FileName\"]).agg(ProcessCommandLine=(\"ProcessCommandLine\", set), count=(\"ProcessCommandLine\", \"count\"))"
   ]
  },
  {
   "cell_type": "code",
   "execution_count": null,
   "metadata": {},
   "outputs": [],
   "source": [
    "common_interpreter_obfuscation = common_interpreter[common_interpreter[\"ProcessCommandLine\"].str.contains(\"|\".join(CHARACTERS))].groupby([\"InitiatingProcessFileName\", \"FileName\"]).agg(ProcessCommandLine=(\"ProcessCommandLine\", set), count=(\"ProcessCommandLine\", \"count\"))\n",
    "common_interpreter_obfuscation"
   ]
  },
  {
   "attachments": {},
   "cell_type": "markdown",
   "metadata": {},
   "source": [
    "## Recon Activity\n",
    "### Generic Warning Flags\n",
    "* User Writable Paths\n",
    "* Suspicious Parent-Child Process Relationships\n",
    "* Suspicious commandline for the recon process\n",
    "* Obfuscation Characters"
   ]
  },
  {
   "cell_type": "code",
   "execution_count": null,
   "metadata": {},
   "outputs": [],
   "source": [
    "recon = mde_prov.mstical_host_triage.host_processes_query(start=\"-7\", processes=RECOON, hostname=\"\")\n",
    "recon"
   ]
  },
  {
   "cell_type": "code",
   "execution_count": null,
   "metadata": {},
   "outputs": [],
   "source": [
    "recon.groupby([\"InitiatingProcessFileName\", \"FileName\"]).agg(ProcessCommandLine=(\"ProcessCommandLine\", set), count=(\"ProcessCommandLine\", \"count\"))"
   ]
  },
  {
   "attachments": {},
   "cell_type": "markdown",
   "metadata": {},
   "source": [
    "## Loaded Modules - system.management.automation.dll\n",
    "### Generic Warning Flags\n",
    "* Suspicious commandline for the process\n",
    "* Weird process filename or unordinary location\n",
    "* Unusual processes loading the DLL e.g rundll32 or another popular spawn-to value, or office application"
   ]
  },
  {
   "cell_type": "code",
   "execution_count": null,
   "metadata": {},
   "outputs": [],
   "source": [
    "powershell_module_load = mde_prov.mstical_host_triage.host_image_load_query(start=\"-7\", loaded_image=[\"system.management.automation.dll\"], hostname=\"\")"
   ]
  },
  {
   "cell_type": "code",
   "execution_count": null,
   "metadata": {},
   "outputs": [],
   "source": [
    "pd.DataFrame(powershell_module_load[\"InitiatingProcessFolderPath\"].unique())"
   ]
  },
  {
   "attachments": {},
   "cell_type": "markdown",
   "metadata": {},
   "source": [
    "## Loaded Modules - clr.dll\n",
    "### Generic Warning Flags\n",
    "* Suspicious commandline for the process\n",
    "* Weird process filename or unordinary location\n",
    "* Unusual processes loading the DLL e.g rundll32 or another popular spawn-to value, or office application"
   ]
  },
  {
   "cell_type": "code",
   "execution_count": null,
   "metadata": {},
   "outputs": [],
   "source": [
    "dotnet_module_load = mde_prov.mstical_host_triage.host_image_load_query(start=\"-7\", loaded_image=[\"clr.dll\"], hostname=\"\")"
   ]
  },
  {
   "cell_type": "code",
   "execution_count": null,
   "metadata": {},
   "outputs": [],
   "source": [
    "pd.DataFrame(dotnet_module_load[\"InitiatingProcessFolderPath\"].unique())"
   ]
  },
  {
   "attachments": {},
   "cell_type": "markdown",
   "metadata": {},
   "source": [
    "## Loaded Modules - wmiutils.dll or fastprox.dll\n",
    "### Generic Warning Flags\n",
    "* Suspicious commandline for the process\n",
    "* Weird process filename or unordinary location\n",
    "* Unusual processes loading the DLL e.g rundll32 or another popular spawn-to value, or office application"
   ]
  },
  {
   "cell_type": "code",
   "execution_count": null,
   "metadata": {},
   "outputs": [],
   "source": [
    "wmi_module_load = mde_prov.mstical_host_triage.host_image_load_query(start=\"-7\", loaded_image=[\"wmiutils.dll\", \"fastprox.dll\"], hostname=\"\")"
   ]
  },
  {
   "cell_type": "code",
   "execution_count": null,
   "metadata": {},
   "outputs": [],
   "source": [
    "pd.DataFrame(wmi_module_load[\"InitiatingProcessFolderPath\"].unique())"
   ]
  },
  {
   "cell_type": "code",
   "execution_count": null,
   "metadata": {},
   "outputs": [],
   "source": [
    "pd.DataFrame(wmi_module_load[wmi_module_load[\"InitiatingProcessCommandLine\"].str.contains(\"powershell\")][\"InitiatingProcessCommandLine\"].drop_duplicates())"
   ]
  },
  {
   "attachments": {},
   "cell_type": "markdown",
   "metadata": {},
   "source": [
    "## Loaded Modules - winhttp.dll\n",
    "### Generic Warning Flags\n",
    "* Suspicious commandline for the process\n",
    "* Weird process filename or unordinary location\n",
    "* Unusual processes loading the DLL e.g rundll32 or another popular spawn-to value\n",
    "* a process you would not expect to be making outbound internet connections"
   ]
  },
  {
   "cell_type": "code",
   "execution_count": null,
   "metadata": {},
   "outputs": [],
   "source": [
    "winhttp_module_load = mde_prov.mstical_host_triage.host_image_load_query(start=\"-7\", loaded_image=[\"winhttp.dll\"], hostname=\"\")"
   ]
  },
  {
   "cell_type": "code",
   "execution_count": null,
   "metadata": {},
   "outputs": [],
   "source": [
    "pd.DataFrame(winhttp_module_load[\"InitiatingProcessFolderPath\"].unique())"
   ]
  },
  {
   "attachments": {},
   "cell_type": "markdown",
   "metadata": {},
   "source": [
    "## Loaded Modules - Microsoft.WSMan.Management.ni.dll, WsmSvc.dll, WsmAuto.dll\n",
    "### Generic Warning Flags\n",
    "* Suspicious commandline for the process\n",
    "* Weird process filename or unordinary location\n",
    "* Unusual processes loading the DLL e.g rundll32 or another popular spawn-to value\n",
    "* a process you would not expect to be making outbound internet connections"
   ]
  },
  {
   "cell_type": "code",
   "execution_count": null,
   "metadata": {},
   "outputs": [],
   "source": [
    "winrm_module_load = mde_prov.mstical_host_triage.host_image_load_query(start=\"-7\", loaded_image=[\"Microsoft.WSMan.Management.ni.dll\", \"WsmSvc.dll\", \"WsmAuto.dll\"], hostname=\"\")"
   ]
  },
  {
   "cell_type": "code",
   "execution_count": null,
   "metadata": {},
   "outputs": [],
   "source": [
    "pd.DataFrame(winrm_module_load[\"InitiatingProcessFolderPath\"].unique())"
   ]
  },
  {
   "attachments": {},
   "cell_type": "markdown",
   "metadata": {},
   "source": [
    "## Loaded Modules - netapi32.dll\n",
    "### Generic Warning Flags\n",
    "* Suspicious commandline for the process\n",
    "* Weird process filename or unordinary location\n",
    "* Unusual processes loading the DLL e.g rundll32 or another popular spawn-to value\n",
    "* a process you would not expect to be making outbound internet connections"
   ]
  },
  {
   "cell_type": "code",
   "execution_count": null,
   "metadata": {},
   "outputs": [],
   "source": [
    "net_module_load = mde_prov.mstical_host_triage.host_image_load_query(start=\"-7\", loaded_image=[\"netapi32.dll\"], hostname=\"\")"
   ]
  },
  {
   "cell_type": "code",
   "execution_count": null,
   "metadata": {},
   "outputs": [],
   "source": [
    "pd.DataFrame(net_module_load[\"InitiatingProcessFolderPath\"].unique())"
   ]
  },
  {
   "attachments": {},
   "cell_type": "markdown",
   "metadata": {},
   "source": [
    "## Registry Run Keys\n",
    "### Generic Warning Flags\n",
    "* Suspicious commandline for the key value\n",
    "* Weird process filename or unordinary location, like appdata perflogs etc\n",
    "* Weird key value name\n",
    "* a lolbas process\n",
    "* service not known to be normal in environment "
   ]
  },
  {
   "cell_type": "code",
   "execution_count": null,
   "metadata": {},
   "outputs": [],
   "source": [
    "asep_keys = mde_prov.mstical_host_triage.host_asep_registry_key_set_query(start=\"-7\", hostname=\"\")"
   ]
  },
  {
   "cell_type": "code",
   "execution_count": null,
   "metadata": {},
   "outputs": [],
   "source": [
    "pd.DataFrame(asep_keys[\"RegistryKey\"].unique())"
   ]
  },
  {
   "attachments": {},
   "cell_type": "markdown",
   "metadata": {},
   "source": [
    "## Scheduled Tasks\n",
    "### Generic Warning Flags\n",
    "* Suspicious commandline for the scheduled task\n",
    "* Weird process filename or unordinary location, like appdata perflogs etc\n",
    "* Weird scheduled task name\n",
    "* a lolbas process\n",
    "* service not known to be normal in environment "
   ]
  },
  {
   "cell_type": "code",
   "execution_count": null,
   "metadata": {},
   "outputs": [],
   "source": [
    "sch_tasks = mde_prov.mstical_host_triage.host_scheduled_task_creation_query(start=\"-7\", hostname=\"\")"
   ]
  },
  {
   "cell_type": "code",
   "execution_count": null,
   "metadata": {},
   "outputs": [],
   "source": [
    "pd.DataFrame(sch_tasks[\"AdditionalFields\"].unique())"
   ]
  },
  {
   "attachments": {},
   "cell_type": "markdown",
   "metadata": {},
   "source": [
    "## Services\n",
    "### Generic Warning Flags\n",
    "* Suspicious commandline for the service\n",
    "* Weird process filename or unordinary location, like appdata perflogs etc\n",
    "* Weird service name\n",
    "* a lolbas process\n",
    "* service not known to be normal in environment "
   ]
  },
  {
   "cell_type": "code",
   "execution_count": null,
   "metadata": {},
   "outputs": [],
   "source": [
    "services = mde_prov.mstical_host_triage.host_get_services_query(start=\"-7\", hostname=\"\")"
   ]
  },
  {
   "attachments": {},
   "cell_type": "markdown",
   "metadata": {},
   "source": [
    "## Process Injection\n",
    "### Generic Warning Flags\n",
    "* Suspicious commandline for the process\n",
    "* Weird process filename or unordinary location\n",
    "* Unusual processes conducting the injection, like a known spawnto or office application"
   ]
  },
  {
   "cell_type": "code",
   "execution_count": null,
   "metadata": {},
   "outputs": [],
   "source": [
    "process_injection = mde_prov.mstical_host_triage.host_process_injection_api_calls_query(start=\"-7\", hostname=\"\")"
   ]
  },
  {
   "cell_type": "code",
   "execution_count": null,
   "metadata": {},
   "outputs": [],
   "source": [
    "sus_process_injections = CS_SPAWN_TO + [\"winword\",\"excel\",\"powerpnt\",\"outlook\",\"MetricsExtension.Native.exe\"]\n",
    "sus_process_injection = [f\"(?:{sus_process_injection})\" for sus_process_injection in map(str, sus_process_injections)]\n",
    "search_pattern = \"|\".join(sus_process_injections)\n",
    "\n",
    "process_injection_exclude = process_injection[process_injection[\"FileName\"].str.contains(search_pattern)]\n",
    "\n",
    "process_injection_exclude.groupby([\"InitiatingProcessFileName\", \"FileName\"]).agg(ProcessCommandLine=(\"ProcessCommandLine\", set), count=(\"ProcessCommandLine\", \"count\"))"
   ]
  },
  {
   "cell_type": "code",
   "execution_count": null,
   "metadata": {},
   "outputs": [],
   "source": [
    "def suspicious_process_injection(\n",
    "    dataframe: pd.DataFrame,\n",
    "    filename_column: str = \"FileName\",\n",
    "    suspicious_param: list[str] = CS_SPAWN_TO + [\"winword\",\"excel\",\"powerpnt\",\"outlook\",],\n",
    "    **kwargs,\n",
    ") -> pd.DataFrame:\n",
    "        \"\"\"Filter on Suspicious Processes Conducting Process Injection\"\"\"\n",
    "        del kwargs\n",
    "        return dataframe[\n",
    "            dataframe[filename_column].str.contains(\"|\".join(sus_process_injection))\n",
    "        ]\n"
   ]
  },
  {
   "cell_type": "code",
   "execution_count": null,
   "metadata": {},
   "outputs": [],
   "source": [
    "suspicious_process_injection(process_injection)"
   ]
  },
  {
   "attachments": {},
   "cell_type": "markdown",
   "metadata": {},
   "source": [
    "## Named Pipes\n",
    "### Generic Warning Flags\n",
    "* Suspicious commandline for the process\n",
    "* Weird process filename or unordinary location\n",
    "* masquerading as legitimate process\n",
    "* random string of characters"
   ]
  },
  {
   "cell_type": "code",
   "execution_count": null,
   "metadata": {},
   "outputs": [],
   "source": [
    "named_pipes = mde_prov.mstical_host_triage.host_malicious_named_pipes_query(start=\"-7\", hostname=\"\")"
   ]
  },
  {
   "attachments": {},
   "cell_type": "markdown",
   "metadata": {},
   "source": [
    "## User Writable Paths\n",
    "### Generic Warning Flags\n",
    "* Suspicious commandline for the process\n",
    "* Weird process filename or unordinary location\n",
    "* masquerading as legitimate process\n",
    "* random string of characters"
   ]
  },
  {
   "cell_type": "code",
   "execution_count": null,
   "metadata": {},
   "outputs": [],
   "source": [
    "uw_path = mde_prov.mstical_host_triage.host_process_execution_from_path_query(start=\"-7\", file_path=COMMON_MALWARE_PATHS, hostname=\"\")"
   ]
  },
  {
   "cell_type": "code",
   "execution_count": null,
   "metadata": {},
   "outputs": [],
   "source": [
    "uw_path.groupby([\"FileName\", \"FolderPath\"]).agg(ProcessCommandLine=(\"ProcessCommandLine\", set), count=(\"ProcessCommandLine\", \"count\"))"
   ]
  },
  {
   "cell_type": "code",
   "execution_count": null,
   "metadata": {},
   "outputs": [],
   "source": []
  }
 ],
 "metadata": {
  "kernelspec": {
   "display_name": "ThreatHunting",
   "language": "python",
   "name": "python3"
  },
  "language_info": {
   "codemirror_mode": {
    "name": "ipython",
    "version": 3
   },
   "file_extension": ".py",
   "mimetype": "text/x-python",
   "name": "python",
   "nbconvert_exporter": "python",
   "pygments_lexer": "ipython3",
   "version": "3.10.8"
  },
  "orig_nbformat": 4,
  "vscode": {
   "interpreter": {
    "hash": "df93ea0c4d960cc333aa1ada8f30d89a109e8503224c28b5063c52b0153db661"
   }
  }
 },
 "nbformat": 4,
 "nbformat_minor": 2
}
